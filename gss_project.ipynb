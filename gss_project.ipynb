{
  "nbformat": 4,
  "nbformat_minor": 0,
  "metadata": {
    "colab": {
      "provenance": [],
      "authorship_tag": "ABX9TyNlpVXBICB4fB+hmy8N6tO0",
      "include_colab_link": true
    },
    "kernelspec": {
      "name": "python3",
      "display_name": "Python 3"
    },
    "language_info": {
      "name": "python"
    }
  },
  "cells": [
    {
      "cell_type": "markdown",
      "metadata": {
        "id": "view-in-github",
        "colab_type": "text"
      },
      "source": [
        "<a href=\"https://colab.research.google.com/github/anutishah/project_gss/blob/main/gss_project.ipynb\" target=\"_parent\"><img src=\"https://colab.research.google.com/assets/colab-badge.svg\" alt=\"Open In Colab\"/></a>"
      ]
    },
    {
      "cell_type": "code",
      "execution_count": 41,
      "metadata": {
        "colab": {
          "base_uri": "https://localhost:8080/"
        },
        "id": "ZkeaNHhzkerP",
        "outputId": "9ed1d7cc-8abd-470e-dbc7-e017b540e78e"
      },
      "outputs": [
        {
          "output_type": "stream",
          "name": "stdout",
          "text": [
            "                income  educ     natmass\n",
            "0                  NaN  16.0         NaN\n",
            "1                  NaN  10.0         NaN\n",
            "2                  NaN  12.0         NaN\n",
            "3                  NaN  17.0         NaN\n",
            "4                  NaN  12.0         NaN\n",
            "...                ...   ...         ...\n",
            "72387  $25,000 or more  12.0  too little\n",
            "72388  $25,000 or more  19.0  too little\n",
            "72389  $25,000 or more  15.0  too little\n",
            "72390  $25,000 or more  17.0  too little\n",
            "72391  $25,000 or more  20.0  too little\n",
            "\n",
            "[72392 rows x 3 columns]\n",
            "income      8953\n",
            "educ         263\n",
            "natmass    22089\n",
            "dtype: int64\n",
            "['$25,000 or more' '$10,000 to $14,999' '$20,000 to $24,999'\n",
            " '$15,000 to $19,999' '$5,000 to $5,999' '$3,000 to $3,999'\n",
            " '$6,000 to $6,999' '$7,000 to $7,999' '$1,000 to $2,999'\n",
            " '$8,000 to $9,999' 'under $1,000' '$4,000 to $4,999'] \n",
            "\n",
            "$25,000 or more       29682\n",
            "$20,000 to $24,999     3614\n",
            "$10,000 to $14,999     3607\n",
            "$15,000 to $19,999     3069\n",
            "$8,000 to $9,999       1104\n",
            "$1,000 to $2,999        646\n",
            "$7,000 to $7,999        614\n",
            "under $1,000            598\n",
            "$5,000 to $5,999        594\n",
            "$6,000 to $6,999        572\n",
            "$3,000 to $3,999        526\n",
            "$4,000 to $4,999        498\n",
            "Name: income, dtype: int64 \n",
            "\n",
            "['16.0' '15.0' '17.0' '18.0' '12.0' '11.0' '10.0' '8.0' '20.0' '9.0'\n",
            " '14.0' '13.0' '19.0' '3.0' '6.0' '7.0' '5.0' '0.0' '4.0' '1.0' '2.0'] \n",
            "\n",
            "12.0    12495\n",
            "16.0     7361\n",
            "14.0     5737\n",
            "13.0     3939\n",
            "15.0     2385\n",
            "18.0     2297\n",
            "11.0     2175\n",
            "17.0     1772\n",
            "10.0     1475\n",
            "20.0     1439\n",
            "9.0      1044\n",
            "8.0      1001\n",
            "19.0      817\n",
            "6.0       394\n",
            "7.0       303\n",
            "5.0       124\n",
            "3.0       104\n",
            "4.0       103\n",
            "2.0        76\n",
            "0.0        63\n",
            "1.0        20\n",
            "Name: educ, dtype: int64 \n",
            "\n",
            "['too little' 'about right' 'too much'] \n",
            "\n",
            "about right    22969\n",
            "too little     17727\n",
            "too much        4428\n",
            "Name: natmass, dtype: int64 \n",
            "\n",
            "                   income  educ     natmass\n",
            "15580     $25,000 or more  16.0  too little\n",
            "15581  $10,000 to $14,999  15.0  too little\n",
            "15582     $25,000 or more  16.0  too little\n",
            "15584     $25,000 or more  17.0  too little\n",
            "15585     $25,000 or more  18.0  too little\n",
            "...                   ...   ...         ...\n",
            "72387     $25,000 or more  12.0  too little\n",
            "72388     $25,000 or more  19.0  too little\n",
            "72389     $25,000 or more  15.0  too little\n",
            "72390     $25,000 or more  17.0  too little\n",
            "72391     $25,000 or more  20.0  too little\n",
            "\n",
            "[45124 rows x 3 columns]\n"
          ]
        }
      ],
      "source": [
        "import pandas as pd\n",
        "import numpy as np\n",
        "\n",
        "\n",
        "#\n",
        "var_list = ['income', 'educ', 'natmass'] # List of variables you want to save\n",
        "output_filename = 'selected_gss_data.csv' # Name of the file you want to save the data to\n",
        "#\n",
        "modes = ['w','a'] # Has write mode and append mode\n",
        "phase = 0 # Starts in write mode; after one iteration of loop, switches to append mode\n",
        "#\n",
        "for k in range(3): # for each chunk of the data\n",
        "    url = 'https://github.com/DS3001/project_gss/raw/main/gss_chunk_' + str(1+k) + '.parquet' # Create url to the chunk to be processed\n",
        "     # Check the url is correct\n",
        "    df = pd.read_parquet(url) # Download this chunk of data\n",
        "    df.head() # Visually inspect the first few rows\n",
        "    df.loc[:,var_list].to_csv(output_filename, # specifies target file to save the chunk to\n",
        "                              mode=modes[phase], # control write versus append\n",
        "                              header=var_list, # variable names\n",
        "                              index=False) # no row index saved\n",
        "    phase = 1 # Switch from write mode to append mode\n",
        "\n",
        "df1 = pd.read_csv('/content/selected_gss_data.csv', low_memory=False)\n",
        "print(df1) #uncleaned data\n",
        "\n",
        "df1['income'] = df1['income'].replace('income',np.nan) #replaces income with NaN since it is not a valid label for this variable\n",
        "print(df1.isna().sum()) #sums how many missing/invalid values there are for each variable\n",
        "df1_cleaned = df1.dropna(subset = var_list)#removes any row containing NaN value - these values are missing or invalid according to codebook\n",
        "\n",
        "\n",
        "#prints list of labels and counts for each label (each variable)\n",
        "print(df1_cleaned['income'].unique(), '\\n')\n",
        "print(df1_cleaned['income'].value_counts(), '\\n')\n",
        "print(df1_cleaned['educ'].unique(),'\\n')\n",
        "print(df1_cleaned['educ'].value_counts(), '\\n')\n",
        "print(df1_cleaned['natmass'].unique(),'\\n')\n",
        "print(df1_cleaned['natmass'].value_counts(), '\\n')\n",
        "\n",
        "print(df1_cleaned)#all cleaned data\n"
      ]
    },
    {
      "cell_type": "code",
      "source": [],
      "metadata": {
        "id": "1_AqmOi_yWEN"
      },
      "execution_count": null,
      "outputs": []
    }
  ]
}