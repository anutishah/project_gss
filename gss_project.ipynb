{
  "nbformat": 4,
  "nbformat_minor": 0,
  "metadata": {
    "colab": {
      "provenance": [],
      "authorship_tag": "ABX9TyNgCqixAa5Q/XQUbvBcfg2A",
      "include_colab_link": true
    },
    "kernelspec": {
      "name": "python3",
      "display_name": "Python 3"
    },
    "language_info": {
      "name": "python"
    }
  },
  "cells": [
    {
      "cell_type": "markdown",
      "metadata": {
        "id": "view-in-github",
        "colab_type": "text"
      },
      "source": [
        "<a href=\"https://colab.research.google.com/github/anutishah/project_gss/blob/main/gss_project.ipynb\" target=\"_parent\"><img src=\"https://colab.research.google.com/assets/colab-badge.svg\" alt=\"Open In Colab\"/></a>"
      ]
    },
    {
      "cell_type": "code",
      "execution_count": null,
      "metadata": {
        "id": "ZkeaNHhzkerP"
      },
      "outputs": [],
      "source": [
        "import pandas as pd\n",
        "#\n",
        "var_list = ['wrkstat', 'prestige'] # List of variables you want to save\n",
        "output_filename = 'selected_gss_data.csv' # Name of the file you want to save the data to\n",
        "#\n",
        "modes = ['w','a'] # Has write mode and append mode\n",
        "phase = 0 # Starts in write mode; after one iteration of loop, switches to append mode\n",
        "#\n",
        "for k in range(3): # for each chunk of the data\n",
        "    url = 'https://github.com/DS3001/project_gss/raw/main/gss_chunk_' + str(1+k) + '.parquet' # Create url to the chunk to be processed\n",
        "    print(url) # Check the url is correct\n",
        "    df = pd.read_parquet(url) # Download this chunk of data\n",
        "    print(df.head()) # Visually inspect the first few rows\n",
        "    df.loc[:,var_list].to_csv(output_filename, # specifies target file to save the chunk to\n",
        "                              mode=modes[phase], # control write versus append\n",
        "                              header=var_list, # variable names\n",
        "                              index=False) # no row index saved\n",
        "    phase = 1 # Switch from write mode to append mode"
      ]
    }
  ]
}